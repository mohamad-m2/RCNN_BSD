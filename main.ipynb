{
  "cells": [
    {
      "cell_type": "markdown",
      "metadata": {
        "id": "FD4mDBomQrqE"
      },
      "source": [
        "\n",
        "**importing modules**\n",
        "--"
      ]
    },
    {
      "cell_type": "code",
      "execution_count": null,
      "metadata": {
        "id": "93UxXCPP7oPm"
      },
      "outputs": [],
      "source": [
        "!pip install labelme\n",
        "!pip uninstall opencv-python-headless==4.5.5.62 \n",
        "!pip install opencv-python-headless==4.1.2.30\n",
        "!pip install fiftyone\n",
        "!pip install torchmetrics\n",
        "!pip install funcy\n",
        "!pip install scikit-multilearn"
      ]
    },
    {
      "cell_type": "code",
      "execution_count": 2,
      "metadata": {
        "id": "09RsDQquORLX"
      },
      "outputs": [],
      "source": [
        "import torch\n",
        "import os \n",
        "import torch.optim as optim\n",
        "import copy\n",
        "import numpy as np\n",
        "import json\n",
        "import glob\n",
        "import os.path as osp\n",
        "import sys\n",
        "import gc\n",
        "from torchmetrics.detection.mean_ap import MeanAveragePrecision as MAP\n",
        "from data import Read_data,detetction_class\n",
        "from visualize import visualize,post_process"
      ]
    },
    {
      "cell_type": "markdown",
      "metadata": {
        "id": "e6t7j0zyRJFG"
      },
      "source": [
        "**downloading data**\n",
        "--"
      ]
    },
    {
      "cell_type": "code",
      "execution_count": null,
      "metadata": {
        "id": "RgVP4OFUO1qX"
      },
      "outputs": [],
      "source": [
        "!git clone https://github.com/2Obe/BSData.git\n",
        "!git clone https://github.com/akarazniewicz/cocosplit.git"
      ]
    },
    {
      "cell_type": "markdown",
      "metadata": {
        "id": "ovJVR69GIXtU"
      },
      "source": [
        "**preparing and reading data**\n",
        "--"
      ]
    },
    {
      "cell_type": "code",
      "execution_count": 4,
      "metadata": {
        "id": "bh-UT7bOhrKq"
      },
      "outputs": [],
      "source": [
        "!mkdir coco_folder"
      ]
    },
    {
      "cell_type": "code",
      "execution_count": null,
      "metadata": {
        "id": "wRbiUkyp1c-S"
      },
      "outputs": [],
      "source": [
        "%cd coco_folder\n",
        "!mkdir data\n",
        "%cd .."
      ]
    },
    {
      "cell_type": "code",
      "execution_count": 6,
      "metadata": {
        "id": "PMCOSTuiCD_M"
      },
      "outputs": [],
      "source": [
        "data=Read_data('BSData/data','BSData/label')\n",
        "with open('coco_folder/data.json', 'w') as fp:\n",
        "    json.dump(data, fp,  indent=4)"
      ]
    },
    {
      "cell_type": "code",
      "execution_count": 7,
      "metadata": {
        "id": "BoMotUlu36cj"
      },
      "outputs": [],
      "source": [
        "import shutil\n",
        "files = glob.iglob(os.path.join(\"BSData/data\", \"*.jpg\"))\n",
        "for file in files:\n",
        "    if os.path.isfile(file):\n",
        "        shutil.copy2(file, os.path.join(\"coco_folder\", \"data\"))\n"
      ]
    },
    {
      "cell_type": "markdown",
      "metadata": {
        "id": "JXzguDaH7760"
      },
      "source": [
        "**splitting test and train data**\n",
        "---"
      ]
    },
    {
      "cell_type": "code",
      "execution_count": null,
      "metadata": {
        "id": "F2VJr5YH7PJ1"
      },
      "outputs": [],
      "source": [
        "!python cocosplit/cocosplit.py --having-annotations -s 0.8 coco_folder/data.json coco_folder/train.json coco_folder/test.json\n",
        "print(f\"length of train data={len(json.load(open('coco_folder/train.json'))['images'])}\")\n",
        "print(f\"length of test data={len(json.load(open('coco_folder/test.json'))['images'])}\")"
      ]
    },
    {
      "cell_type": "markdown",
      "metadata": {
        "id": "Gwmjb5EoMp8u"
      },
      "source": [
        "**primary model**\n",
        "--"
      ]
    },
    {
      "cell_type": "code",
      "execution_count": 4,
      "metadata": {
        "id": "O4r4K1JX8-uD",
        "colab": {
          "base_uri": "https://localhost:8080/",
          "height": 87,
          "referenced_widgets": [
            "a5699f14e23b4d579b9c64b8f7dd73e2",
            "0e799de0adc6483eb8d4841f09190c95",
            "bbaf315c547148389f1ae3edb7bb5a7f",
            "6f5aaea0238e447ea1084f5955ea1164",
            "f4b05798729d4035a588f1761115ee48",
            "52719355fa394402a9217f33a240e3cc",
            "3642e594f7984077b70dd7fc30a657ed",
            "1266926de63842848590cfaac58e734d",
            "66e4b56867b94be1ab8d7d60639f26ee",
            "5bcdb8909e1e4ea4b150bc178a8221c2",
            "889b86c1447144f19ebd7996d961caed"
          ]
        },
        "outputId": "b3a6a136-e160-41a5-cd15-f1c6fea3a2c8"
      },
      "outputs": [
        {
          "output_type": "stream",
          "name": "stderr",
          "text": [
            "Downloading: \"https://download.pytorch.org/models/resnet101-63fe2227.pth\" to /root/.cache/torch/hub/checkpoints/resnet101-63fe2227.pth\n"
          ]
        },
        {
          "output_type": "display_data",
          "data": {
            "text/plain": [
              "  0%|          | 0.00/171M [00:00<?, ?B/s]"
            ],
            "application/vnd.jupyter.widget-view+json": {
              "version_major": 2,
              "version_minor": 0,
              "model_id": "a5699f14e23b4d579b9c64b8f7dd73e2"
            }
          },
          "metadata": {}
        }
      ],
      "source": [
        "from model import get_model\n",
        "model=get_model(2,'resnset101')\n"
      ]
    },
    {
      "cell_type": "markdown",
      "metadata": {
        "id": "CdJtGkbsMwZu"
      },
      "source": [
        "**data class**\n",
        "--"
      ]
    },
    {
      "cell_type": "code",
      "execution_count": null,
      "metadata": {
        "id": "btu2VEqUNB0g"
      },
      "outputs": [],
      "source": [
        "train_dataset=detetction_class('/content/coco_folder/train.json','/content/coco_folder/data')\n",
        "test_dataset=detetction_class('/content/coco_folder/test.json','/content/coco_folder/data')"
      ]
    },
    {
      "cell_type": "markdown",
      "metadata": {
        "id": "OAH2pnSH3BmZ"
      },
      "source": [
        "**training**\n",
        "--"
      ]
    },
    {
      "cell_type": "code",
      "execution_count": 6,
      "metadata": {
        "id": "JR7pWohlNdrB"
      },
      "outputs": [],
      "source": [
        "lr=0.001#0.0001 \n",
        "weight_decay=1e-5\n",
        "optimizer=optim.SGD(model.parameters(),lr=lr,weight_decay=weight_decay,momentum=0.9)\n",
        "optim_scheduler = optim.lr_scheduler.StepLR(optimizer, step_size=3, gamma=0.1)\n",
        "train_sample=[i[0] for i in train_dataset]\n",
        "train_label=[i[1] for i in train_dataset]"
      ]
    },
    {
      "cell_type": "code",
      "execution_count": 23,
      "metadata": {
        "id": "0Bo5SCjs3U88"
      },
      "outputs": [],
      "source": [
        "torch.save(model.state_dict(),'pretrained_rcnn')"
      ]
    },
    {
      "cell_type": "code",
      "execution_count": null,
      "metadata": {
        "id": "ScgSu6Ct3V8Z"
      },
      "outputs": [],
      "source": [
        "\n",
        "model.load_state_dict(torch.load('pretrained_rcnn',map_location='cpu'))"
      ]
    },
    {
      "cell_type": "code",
      "execution_count": null,
      "metadata": {
        "id": "WzqylFjhN2-h"
      },
      "outputs": [],
      "source": [
        "Device='cuda'\n",
        "epochs=8\n",
        "batch_size=2\n",
        "model.to(Device)\n",
        "model.train(True)\n",
        "parameter=np.array([6,6,10,10,0.005])#np.array([1,1,1,1,0.5])# #both initial wait are used one for fine tuning and the other is for training\n",
        "for i in range(epochs):\n",
        "  if i<8:\n",
        "    parameter*[0.9,0.9,0.8,0.8,2]#[0.8,0.8,0.8,0.8,1.5]   #both list are used one for fine tuning and the other is for training\n",
        "  print(f'epoch {i} of {epochs}')\n",
        "  for i in range(int(len(train_sample)/batch_size)+1):\n",
        "    optimizer.zero_grad()\n",
        "    j=(i+1)*batch_size if i<int(len(train_sample)/batch_size) else None\n",
        "\n",
        "    k=[x.to(Device) for x in train_sample[(i*batch_size):j]]\n",
        "    l=[{'labels':x['labels'].to(Device),'boxes':x['boxes'].to(Device),'masks':x['masks'].to(Device)\n",
        "        } for x in train_label[(i*batch_size):j]]\n",
        "        \n",
        "    loss=model(k,l)\n",
        "\n",
        "    del (k)\n",
        "    del (l)\n",
        "    torch.cuda.empty_cache()\n",
        "    \n",
        "    loss1=loss['loss_classifier']\n",
        "    loss2=loss['loss_box_reg']\n",
        "    loss3=loss['loss_mask']\n",
        "    loss4=loss['loss_objectness']\n",
        "    loss5=loss['loss_rpn_box_reg']\n",
        "\n",
        "    total_loss=parameter[0]*loss2+parameter[1]*loss1+parameter[2]*loss4+parameter[3]*loss5+parameter[4]*loss3\n",
        "    total_loss.backward()\n",
        "    if(i%20==0):\n",
        "      print(loss)\n",
        "      print(total_loss.item())\n",
        "\n",
        "    optimizer.step()\n",
        "  optim_scheduler.step()\n",
        "  "
      ]
    },
    {
      "cell_type": "markdown",
      "metadata": {
        "id": "Wzd9Bki5g61D"
      },
      "source": [
        "**visualize results**\n",
        "---"
      ]
    },
    {
      "cell_type": "code",
      "execution_count": null,
      "metadata": {
        "id": "-LhqeSiEFElO"
      },
      "outputs": [],
      "source": [
        "k=test_dataset[3]\n",
        "\n",
        "visualize(k[0],k[1],1)"
      ]
    },
    {
      "cell_type": "code",
      "execution_count": null,
      "metadata": {
        "id": "6F8ZrxU4MDxt"
      },
      "outputs": [],
      "source": [
        "model.train(False)\n",
        "Device='cpu'\n",
        "model.to(Device)\n",
        "z=[k[0].to(Device)]\n",
        "f=model(z)\n",
        "del z\n",
        "torch.cuda.empty_cache()"
      ]
    },
    {
      "cell_type": "code",
      "execution_count": null,
      "metadata": {
        "id": "DtgYSrT3MWcd"
      },
      "outputs": [],
      "source": [
        "visualize(k[0],f[0],1,0.1)"
      ]
    },
    {
      "cell_type": "markdown",
      "metadata": {
        "id": "OrE_qJCJaHGD"
      },
      "source": [
        "**testing**\n",
        "---"
      ]
    },
    {
      "cell_type": "code",
      "execution_count": 18,
      "metadata": {
        "id": "fKgsAQ9h0ZfZ"
      },
      "outputs": [],
      "source": [
        "def get_target_prediction(model,sample,Device):\n",
        "  z=[sample[0].to(Device)]\n",
        "  f=model(z)\n",
        "  f=post_process(f[0],0.5,0.1)\n",
        "  k={\"boxes\":f[\"boxes\"].to(\"cpu\"),\"labels\":f[\"labels\"].to(\"cpu\"),\"scores\":f[\"scores\"].to(\"cpu\")}\n",
        "  del (f)\n",
        "  del (z)\n",
        "  gc.collect()\n",
        "  return  k"
      ]
    },
    {
      "cell_type": "code",
      "execution_count": null,
      "metadata": {
        "id": "Ju3qMCW5aMs-"
      },
      "outputs": [],
      "source": [
        "model.train(False)\n",
        "Device='cuda'\n",
        "model.to(Device)\n",
        "\n",
        "Map=0\n",
        "j=0\n",
        "small=[0,0]\n",
        "med=[0,0]\n",
        "large=[0,0]\n",
        "for i in test_dataset:\n",
        "  map=MAP()\n",
        "  map.update([get_target_prediction(model,i,Device)]  ,[{\"boxes\":i[1][\"boxes\"].to('cpu'),\"labels\":i[1][\"labels\"].to('cpu')}])\n",
        "  print(map.compute())\n",
        "  print(f\"step {j} from {len(test_dataset)}\")\n",
        "  z=map.compute()\n",
        "  Map+=z['map']\n",
        "  if(z['map_small'].item()>=0):\n",
        "    small[0]+=z['map_small']\n",
        "    small[1]+=1\n",
        "  if(z['map_medium'].item()>=0):\n",
        "    med[0]+=z['map_medium']\n",
        "    med[1]+=1\n",
        "  if(z['map_large'].item()>=0):\n",
        "    large[0]+=z['map_large']\n",
        "    large[1]+=1\n",
        "  torch.cuda.empty_cache()\n",
        "  j+=1  "
      ]
    },
    {
      "cell_type": "code",
      "execution_count": null,
      "metadata": {
        "id": "WS9dukmEDzrC"
      },
      "outputs": [],
      "source": [
        "Map/len(test_dataset),small[0]/small[1],med[0]/med[1],large[0]/large[1]"
      ]
    }
  ],
  "metadata": {
    "accelerator": "GPU",
    "colab": {
      "collapsed_sections": [],
      "name": "scew_lab.ipynb",
      "provenance": []
    },
    "kernelspec": {
      "display_name": "Python 3",
      "name": "python3"
    },
    "language_info": {
      "name": "python"
    },
    "widgets": {
      "application/vnd.jupyter.widget-state+json": {
        "a5699f14e23b4d579b9c64b8f7dd73e2": {
          "model_module": "@jupyter-widgets/controls",
          "model_name": "HBoxModel",
          "model_module_version": "1.5.0",
          "state": {
            "_dom_classes": [],
            "_model_module": "@jupyter-widgets/controls",
            "_model_module_version": "1.5.0",
            "_model_name": "HBoxModel",
            "_view_count": null,
            "_view_module": "@jupyter-widgets/controls",
            "_view_module_version": "1.5.0",
            "_view_name": "HBoxView",
            "box_style": "",
            "children": [
              "IPY_MODEL_0e799de0adc6483eb8d4841f09190c95",
              "IPY_MODEL_bbaf315c547148389f1ae3edb7bb5a7f",
              "IPY_MODEL_6f5aaea0238e447ea1084f5955ea1164"
            ],
            "layout": "IPY_MODEL_f4b05798729d4035a588f1761115ee48"
          }
        },
        "0e799de0adc6483eb8d4841f09190c95": {
          "model_module": "@jupyter-widgets/controls",
          "model_name": "HTMLModel",
          "model_module_version": "1.5.0",
          "state": {
            "_dom_classes": [],
            "_model_module": "@jupyter-widgets/controls",
            "_model_module_version": "1.5.0",
            "_model_name": "HTMLModel",
            "_view_count": null,
            "_view_module": "@jupyter-widgets/controls",
            "_view_module_version": "1.5.0",
            "_view_name": "HTMLView",
            "description": "",
            "description_tooltip": null,
            "layout": "IPY_MODEL_52719355fa394402a9217f33a240e3cc",
            "placeholder": "​",
            "style": "IPY_MODEL_3642e594f7984077b70dd7fc30a657ed",
            "value": "100%"
          }
        },
        "bbaf315c547148389f1ae3edb7bb5a7f": {
          "model_module": "@jupyter-widgets/controls",
          "model_name": "FloatProgressModel",
          "model_module_version": "1.5.0",
          "state": {
            "_dom_classes": [],
            "_model_module": "@jupyter-widgets/controls",
            "_model_module_version": "1.5.0",
            "_model_name": "FloatProgressModel",
            "_view_count": null,
            "_view_module": "@jupyter-widgets/controls",
            "_view_module_version": "1.5.0",
            "_view_name": "ProgressView",
            "bar_style": "success",
            "description": "",
            "description_tooltip": null,
            "layout": "IPY_MODEL_1266926de63842848590cfaac58e734d",
            "max": 178793939,
            "min": 0,
            "orientation": "horizontal",
            "style": "IPY_MODEL_66e4b56867b94be1ab8d7d60639f26ee",
            "value": 178793939
          }
        },
        "6f5aaea0238e447ea1084f5955ea1164": {
          "model_module": "@jupyter-widgets/controls",
          "model_name": "HTMLModel",
          "model_module_version": "1.5.0",
          "state": {
            "_dom_classes": [],
            "_model_module": "@jupyter-widgets/controls",
            "_model_module_version": "1.5.0",
            "_model_name": "HTMLModel",
            "_view_count": null,
            "_view_module": "@jupyter-widgets/controls",
            "_view_module_version": "1.5.0",
            "_view_name": "HTMLView",
            "description": "",
            "description_tooltip": null,
            "layout": "IPY_MODEL_5bcdb8909e1e4ea4b150bc178a8221c2",
            "placeholder": "​",
            "style": "IPY_MODEL_889b86c1447144f19ebd7996d961caed",
            "value": " 171M/171M [00:02&lt;00:00, 87.4MB/s]"
          }
        },
        "f4b05798729d4035a588f1761115ee48": {
          "model_module": "@jupyter-widgets/base",
          "model_name": "LayoutModel",
          "model_module_version": "1.2.0",
          "state": {
            "_model_module": "@jupyter-widgets/base",
            "_model_module_version": "1.2.0",
            "_model_name": "LayoutModel",
            "_view_count": null,
            "_view_module": "@jupyter-widgets/base",
            "_view_module_version": "1.2.0",
            "_view_name": "LayoutView",
            "align_content": null,
            "align_items": null,
            "align_self": null,
            "border": null,
            "bottom": null,
            "display": null,
            "flex": null,
            "flex_flow": null,
            "grid_area": null,
            "grid_auto_columns": null,
            "grid_auto_flow": null,
            "grid_auto_rows": null,
            "grid_column": null,
            "grid_gap": null,
            "grid_row": null,
            "grid_template_areas": null,
            "grid_template_columns": null,
            "grid_template_rows": null,
            "height": null,
            "justify_content": null,
            "justify_items": null,
            "left": null,
            "margin": null,
            "max_height": null,
            "max_width": null,
            "min_height": null,
            "min_width": null,
            "object_fit": null,
            "object_position": null,
            "order": null,
            "overflow": null,
            "overflow_x": null,
            "overflow_y": null,
            "padding": null,
            "right": null,
            "top": null,
            "visibility": null,
            "width": null
          }
        },
        "52719355fa394402a9217f33a240e3cc": {
          "model_module": "@jupyter-widgets/base",
          "model_name": "LayoutModel",
          "model_module_version": "1.2.0",
          "state": {
            "_model_module": "@jupyter-widgets/base",
            "_model_module_version": "1.2.0",
            "_model_name": "LayoutModel",
            "_view_count": null,
            "_view_module": "@jupyter-widgets/base",
            "_view_module_version": "1.2.0",
            "_view_name": "LayoutView",
            "align_content": null,
            "align_items": null,
            "align_self": null,
            "border": null,
            "bottom": null,
            "display": null,
            "flex": null,
            "flex_flow": null,
            "grid_area": null,
            "grid_auto_columns": null,
            "grid_auto_flow": null,
            "grid_auto_rows": null,
            "grid_column": null,
            "grid_gap": null,
            "grid_row": null,
            "grid_template_areas": null,
            "grid_template_columns": null,
            "grid_template_rows": null,
            "height": null,
            "justify_content": null,
            "justify_items": null,
            "left": null,
            "margin": null,
            "max_height": null,
            "max_width": null,
            "min_height": null,
            "min_width": null,
            "object_fit": null,
            "object_position": null,
            "order": null,
            "overflow": null,
            "overflow_x": null,
            "overflow_y": null,
            "padding": null,
            "right": null,
            "top": null,
            "visibility": null,
            "width": null
          }
        },
        "3642e594f7984077b70dd7fc30a657ed": {
          "model_module": "@jupyter-widgets/controls",
          "model_name": "DescriptionStyleModel",
          "model_module_version": "1.5.0",
          "state": {
            "_model_module": "@jupyter-widgets/controls",
            "_model_module_version": "1.5.0",
            "_model_name": "DescriptionStyleModel",
            "_view_count": null,
            "_view_module": "@jupyter-widgets/base",
            "_view_module_version": "1.2.0",
            "_view_name": "StyleView",
            "description_width": ""
          }
        },
        "1266926de63842848590cfaac58e734d": {
          "model_module": "@jupyter-widgets/base",
          "model_name": "LayoutModel",
          "model_module_version": "1.2.0",
          "state": {
            "_model_module": "@jupyter-widgets/base",
            "_model_module_version": "1.2.0",
            "_model_name": "LayoutModel",
            "_view_count": null,
            "_view_module": "@jupyter-widgets/base",
            "_view_module_version": "1.2.0",
            "_view_name": "LayoutView",
            "align_content": null,
            "align_items": null,
            "align_self": null,
            "border": null,
            "bottom": null,
            "display": null,
            "flex": null,
            "flex_flow": null,
            "grid_area": null,
            "grid_auto_columns": null,
            "grid_auto_flow": null,
            "grid_auto_rows": null,
            "grid_column": null,
            "grid_gap": null,
            "grid_row": null,
            "grid_template_areas": null,
            "grid_template_columns": null,
            "grid_template_rows": null,
            "height": null,
            "justify_content": null,
            "justify_items": null,
            "left": null,
            "margin": null,
            "max_height": null,
            "max_width": null,
            "min_height": null,
            "min_width": null,
            "object_fit": null,
            "object_position": null,
            "order": null,
            "overflow": null,
            "overflow_x": null,
            "overflow_y": null,
            "padding": null,
            "right": null,
            "top": null,
            "visibility": null,
            "width": null
          }
        },
        "66e4b56867b94be1ab8d7d60639f26ee": {
          "model_module": "@jupyter-widgets/controls",
          "model_name": "ProgressStyleModel",
          "model_module_version": "1.5.0",
          "state": {
            "_model_module": "@jupyter-widgets/controls",
            "_model_module_version": "1.5.0",
            "_model_name": "ProgressStyleModel",
            "_view_count": null,
            "_view_module": "@jupyter-widgets/base",
            "_view_module_version": "1.2.0",
            "_view_name": "StyleView",
            "bar_color": null,
            "description_width": ""
          }
        },
        "5bcdb8909e1e4ea4b150bc178a8221c2": {
          "model_module": "@jupyter-widgets/base",
          "model_name": "LayoutModel",
          "model_module_version": "1.2.0",
          "state": {
            "_model_module": "@jupyter-widgets/base",
            "_model_module_version": "1.2.0",
            "_model_name": "LayoutModel",
            "_view_count": null,
            "_view_module": "@jupyter-widgets/base",
            "_view_module_version": "1.2.0",
            "_view_name": "LayoutView",
            "align_content": null,
            "align_items": null,
            "align_self": null,
            "border": null,
            "bottom": null,
            "display": null,
            "flex": null,
            "flex_flow": null,
            "grid_area": null,
            "grid_auto_columns": null,
            "grid_auto_flow": null,
            "grid_auto_rows": null,
            "grid_column": null,
            "grid_gap": null,
            "grid_row": null,
            "grid_template_areas": null,
            "grid_template_columns": null,
            "grid_template_rows": null,
            "height": null,
            "justify_content": null,
            "justify_items": null,
            "left": null,
            "margin": null,
            "max_height": null,
            "max_width": null,
            "min_height": null,
            "min_width": null,
            "object_fit": null,
            "object_position": null,
            "order": null,
            "overflow": null,
            "overflow_x": null,
            "overflow_y": null,
            "padding": null,
            "right": null,
            "top": null,
            "visibility": null,
            "width": null
          }
        },
        "889b86c1447144f19ebd7996d961caed": {
          "model_module": "@jupyter-widgets/controls",
          "model_name": "DescriptionStyleModel",
          "model_module_version": "1.5.0",
          "state": {
            "_model_module": "@jupyter-widgets/controls",
            "_model_module_version": "1.5.0",
            "_model_name": "DescriptionStyleModel",
            "_view_count": null,
            "_view_module": "@jupyter-widgets/base",
            "_view_module_version": "1.2.0",
            "_view_name": "StyleView",
            "description_width": ""
          }
        }
      }
    }
  },
  "nbformat": 4,
  "nbformat_minor": 0
}