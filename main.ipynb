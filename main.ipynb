{
  "cells": [
    {
      "cell_type": "markdown",
      "metadata": {
        "id": "FD4mDBomQrqE"
      },
      "source": [
        "\n",
        "**importing modules**\n",
        "--"
      ]
    },
    {
      "cell_type": "code",
      "execution_count": 11,
      "metadata": {
        "id": "93UxXCPP7oPm",
        "colab": {
          "base_uri": "https://localhost:8080/",
          "height": 1000
        },
        "outputId": "35a6ca10-e905-4d95-f145-39b3749e6b11"
      },
      "outputs": [
        {
          "output_type": "stream",
          "name": "stdout",
          "text": [
            "Requirement already satisfied: labelme in /usr/local/lib/python3.7/dist-packages (5.0.1)\n",
            "Requirement already satisfied: qtpy!=1.11.2 in /usr/local/lib/python3.7/dist-packages (from labelme) (2.0.1)\n",
            "Requirement already satisfied: Pillow>=2.8 in /usr/local/lib/python3.7/dist-packages (from labelme) (7.1.2)\n",
            "Requirement already satisfied: PyQt5!=5.15.3,!=5.15.4 in /usr/local/lib/python3.7/dist-packages (from labelme) (5.15.6)\n",
            "Requirement already satisfied: imgviz>=0.11 in /usr/local/lib/python3.7/dist-packages (from labelme) (1.5.0)\n",
            "Requirement already satisfied: PyYAML in /usr/local/lib/python3.7/dist-packages (from labelme) (3.13)\n",
            "Requirement already satisfied: natsort>=7.1.0 in /usr/local/lib/python3.7/dist-packages (from labelme) (8.1.0)\n",
            "Requirement already satisfied: numpy in /usr/local/lib/python3.7/dist-packages (from labelme) (1.21.6)\n",
            "Requirement already satisfied: termcolor in /usr/local/lib/python3.7/dist-packages (from labelme) (1.1.0)\n",
            "Requirement already satisfied: matplotlib<3.3 in /usr/local/lib/python3.7/dist-packages (from labelme) (3.2.2)\n",
            "Requirement already satisfied: python-dateutil>=2.1 in /usr/local/lib/python3.7/dist-packages (from matplotlib<3.3->labelme) (2.8.2)\n",
            "Requirement already satisfied: kiwisolver>=1.0.1 in /usr/local/lib/python3.7/dist-packages (from matplotlib<3.3->labelme) (1.4.2)\n",
            "Requirement already satisfied: cycler>=0.10 in /usr/local/lib/python3.7/dist-packages (from matplotlib<3.3->labelme) (0.11.0)\n",
            "Requirement already satisfied: pyparsing!=2.0.4,!=2.1.2,!=2.1.6,>=2.0.1 in /usr/local/lib/python3.7/dist-packages (from matplotlib<3.3->labelme) (3.0.8)\n",
            "Requirement already satisfied: typing-extensions in /usr/local/lib/python3.7/dist-packages (from kiwisolver>=1.0.1->matplotlib<3.3->labelme) (4.1.1)\n",
            "Requirement already satisfied: PyQt5-sip<13,>=12.8 in /usr/local/lib/python3.7/dist-packages (from PyQt5!=5.15.3,!=5.15.4->labelme) (12.10.1)\n",
            "Requirement already satisfied: PyQt5-Qt5>=5.15.2 in /usr/local/lib/python3.7/dist-packages (from PyQt5!=5.15.3,!=5.15.4->labelme) (5.15.2)\n",
            "Requirement already satisfied: six>=1.5 in /usr/local/lib/python3.7/dist-packages (from python-dateutil>=2.1->matplotlib<3.3->labelme) (1.15.0)\n",
            "Requirement already satisfied: packaging in /usr/local/lib/python3.7/dist-packages (from qtpy!=1.11.2->labelme) (21.3)\n",
            "Found existing installation: opencv-python-headless 4.1.2.30\n",
            "Uninstalling opencv-python-headless-4.1.2.30:\n",
            "  Would remove:\n",
            "    /usr/local/lib/python3.7/dist-packages/cv2/*\n",
            "    /usr/local/lib/python3.7/dist-packages/opencv_python_headless-4.1.2.30.dist-info/*\n",
            "  Would not remove (might be manually added):\n",
            "    /usr/local/lib/python3.7/dist-packages/cv2/.libs/libQtCore-bbdab771.so.4.8.7\n",
            "    /usr/local/lib/python3.7/dist-packages/cv2/.libs/libQtGui-903938cd.so.4.8.7\n",
            "    /usr/local/lib/python3.7/dist-packages/cv2/.libs/libQtTest-1183da5d.so.4.8.7\n",
            "Proceed (y/n)? y\n",
            "  Successfully uninstalled opencv-python-headless-4.1.2.30\n",
            "Collecting opencv-python-headless==4.1.2.30\n",
            "  Using cached opencv_python_headless-4.1.2.30-cp37-cp37m-manylinux1_x86_64.whl (21.8 MB)\n",
            "Requirement already satisfied: numpy>=1.14.5 in /usr/local/lib/python3.7/dist-packages (from opencv-python-headless==4.1.2.30) (1.21.6)\n",
            "Installing collected packages: opencv-python-headless\n",
            "Successfully installed opencv-python-headless-4.1.2.30\n"
          ]
        },
        {
          "output_type": "display_data",
          "data": {
            "application/vnd.colab-display-data+json": {
              "pip_warning": {
                "packages": [
                  "cv2"
                ]
              }
            }
          },
          "metadata": {}
        },
        {
          "output_type": "stream",
          "name": "stdout",
          "text": [
            "Requirement already satisfied: fiftyone in /usr/local/lib/python3.7/dist-packages (0.15.0.1)\n",
            "Requirement already satisfied: PyYAML in /usr/local/lib/python3.7/dist-packages (from fiftyone) (3.13)\n",
            "Requirement already satisfied: eventlet in /usr/local/lib/python3.7/dist-packages (from fiftyone) (0.33.0)\n",
            "Requirement already satisfied: Deprecated in /usr/local/lib/python3.7/dist-packages (from fiftyone) (1.2.13)\n",
            "Requirement already satisfied: argcomplete in /usr/local/lib/python3.7/dist-packages (from fiftyone) (2.0.0)\n",
            "Requirement already satisfied: psutil in /usr/local/lib/python3.7/dist-packages (from fiftyone) (5.4.8)\n",
            "Requirement already satisfied: xmltodict in /usr/local/lib/python3.7/dist-packages (from fiftyone) (0.12.0)\n",
            "Requirement already satisfied: plotly<5,>=4.14 in /usr/local/lib/python3.7/dist-packages (from fiftyone) (4.14.3)\n",
            "Requirement already satisfied: setuptools in /usr/local/lib/python3.7/dist-packages (from fiftyone) (57.4.0)\n",
            "Requirement already satisfied: aiofiles in /usr/local/lib/python3.7/dist-packages (from fiftyone) (0.8.0)\n",
            "Requirement already satisfied: tabulate in /usr/local/lib/python3.7/dist-packages (from fiftyone) (0.8.9)\n",
            "Requirement already satisfied: scikit-image in /usr/local/lib/python3.7/dist-packages (from fiftyone) (0.18.3)\n",
            "Requirement already satisfied: mongoengine==0.20.0 in /usr/local/lib/python3.7/dist-packages (from fiftyone) (0.20.0)\n",
            "Requirement already satisfied: Jinja2>=3 in /usr/local/lib/python3.7/dist-packages (from fiftyone) (3.1.1)\n",
            "Requirement already satisfied: pytz in /usr/local/lib/python3.7/dist-packages (from fiftyone) (2022.1)\n",
            "Requirement already satisfied: packaging in /usr/local/lib/python3.7/dist-packages (from fiftyone) (21.3)\n",
            "Requirement already satisfied: future in /usr/local/lib/python3.7/dist-packages (from fiftyone) (0.16.0)\n",
            "Requirement already satisfied: retrying in /usr/local/lib/python3.7/dist-packages (from fiftyone) (1.3.3)\n",
            "Requirement already satisfied: tornado<7,>=5.1.1 in /usr/local/lib/python3.7/dist-packages (from fiftyone) (5.1.1)\n",
            "Requirement already satisfied: kaleido in /usr/local/lib/python3.7/dist-packages (from fiftyone) (0.2.1)\n",
            "Requirement already satisfied: Pillow>=6.2 in /usr/local/lib/python3.7/dist-packages (from fiftyone) (7.1.2)\n",
            "Requirement already satisfied: pprintpp in /usr/local/lib/python3.7/dist-packages (from fiftyone) (0.4.0)\n",
            "Requirement already satisfied: scikit-learn in /usr/local/lib/python3.7/dist-packages (from fiftyone) (1.0.2)\n",
            "Requirement already satisfied: voxel51-eta<0.7,>=0.6.3 in /usr/local/lib/python3.7/dist-packages (from fiftyone) (0.6.5)\n",
            "Requirement already satisfied: opencv-python-headless in /usr/local/lib/python3.7/dist-packages (from fiftyone) (4.1.2.30)\n",
            "Requirement already satisfied: universal-analytics-python3<2,>=1.0.1 in /usr/local/lib/python3.7/dist-packages (from fiftyone) (1.1.1)\n",
            "Requirement already satisfied: pymongo<4,>=3.11 in /usr/local/lib/python3.7/dist-packages (from fiftyone) (3.12.3)\n",
            "Requirement already satisfied: fiftyone-brain<0.9,>=0.8 in /usr/local/lib/python3.7/dist-packages (from fiftyone) (0.8.1)\n",
            "Requirement already satisfied: numpy in /usr/local/lib/python3.7/dist-packages (from fiftyone) (1.21.6)\n",
            "Requirement already satisfied: fiftyone-db<0.4,>=0.3 in /usr/local/lib/python3.7/dist-packages (from fiftyone) (0.3.0)\n",
            "Requirement already satisfied: matplotlib in /usr/local/lib/python3.7/dist-packages (from fiftyone) (3.2.2)\n",
            "Requirement already satisfied: pandas in /usr/local/lib/python3.7/dist-packages (from fiftyone) (1.3.5)\n",
            "Requirement already satisfied: motor<3,>=2.3 in /usr/local/lib/python3.7/dist-packages (from fiftyone) (2.5.1)\n",
            "Requirement already satisfied: boto3 in /usr/local/lib/python3.7/dist-packages (from fiftyone) (1.21.45)\n",
            "Requirement already satisfied: ndjson in /usr/local/lib/python3.7/dist-packages (from fiftyone) (0.3.1)\n",
            "Requirement already satisfied: scipy>=1.2.0 in /usr/local/lib/python3.7/dist-packages (from fiftyone-brain<0.9,>=0.8->fiftyone) (1.4.1)\n",
            "Requirement already satisfied: MarkupSafe>=2.0 in /usr/local/lib/python3.7/dist-packages (from Jinja2>=3->fiftyone) (2.0.1)\n",
            "Requirement already satisfied: six in /usr/local/lib/python3.7/dist-packages (from plotly<5,>=4.14->fiftyone) (1.15.0)\n",
            "Requirement already satisfied: httpx>=0.10.0 in /usr/local/lib/python3.7/dist-packages (from universal-analytics-python3<2,>=1.0.1->fiftyone) (0.22.0)\n",
            "Requirement already satisfied: certifi in /usr/local/lib/python3.7/dist-packages (from httpx>=0.10.0->universal-analytics-python3<2,>=1.0.1->fiftyone) (2021.10.8)\n",
            "Requirement already satisfied: rfc3986[idna2008]<2,>=1.3 in /usr/local/lib/python3.7/dist-packages (from httpx>=0.10.0->universal-analytics-python3<2,>=1.0.1->fiftyone) (1.5.0)\n",
            "Requirement already satisfied: charset-normalizer in /usr/local/lib/python3.7/dist-packages (from httpx>=0.10.0->universal-analytics-python3<2,>=1.0.1->fiftyone) (2.0.12)\n",
            "Requirement already satisfied: sniffio in /usr/local/lib/python3.7/dist-packages (from httpx>=0.10.0->universal-analytics-python3<2,>=1.0.1->fiftyone) (1.2.0)\n",
            "Requirement already satisfied: httpcore<0.15.0,>=0.14.5 in /usr/local/lib/python3.7/dist-packages (from httpx>=0.10.0->universal-analytics-python3<2,>=1.0.1->fiftyone) (0.14.7)\n",
            "Requirement already satisfied: h11<0.13,>=0.11 in /usr/local/lib/python3.7/dist-packages (from httpcore<0.15.0,>=0.14.5->httpx>=0.10.0->universal-analytics-python3<2,>=1.0.1->fiftyone) (0.12.0)\n",
            "Requirement already satisfied: anyio==3.* in /usr/local/lib/python3.7/dist-packages (from httpcore<0.15.0,>=0.14.5->httpx>=0.10.0->universal-analytics-python3<2,>=1.0.1->fiftyone) (3.5.0)\n",
            "Requirement already satisfied: idna>=2.8 in /usr/local/lib/python3.7/dist-packages (from anyio==3.*->httpcore<0.15.0,>=0.14.5->httpx>=0.10.0->universal-analytics-python3<2,>=1.0.1->fiftyone) (2.10)\n",
            "Requirement already satisfied: typing-extensions in /usr/local/lib/python3.7/dist-packages (from anyio==3.*->httpcore<0.15.0,>=0.14.5->httpx>=0.10.0->universal-analytics-python3<2,>=1.0.1->fiftyone) (4.1.1)\n",
            "Requirement already satisfied: glob2 in /usr/local/lib/python3.7/dist-packages (from voxel51-eta<0.7,>=0.6.3->fiftyone) (0.7)\n",
            "Requirement already satisfied: sortedcontainers in /usr/local/lib/python3.7/dist-packages (from voxel51-eta<0.7,>=0.6.3->fiftyone) (2.4.0)\n",
            "Requirement already satisfied: requests in /usr/local/lib/python3.7/dist-packages (from voxel51-eta<0.7,>=0.6.3->fiftyone) (2.23.0)\n",
            "Requirement already satisfied: python-dateutil in /usr/local/lib/python3.7/dist-packages (from voxel51-eta<0.7,>=0.6.3->fiftyone) (2.8.2)\n",
            "Requirement already satisfied: patool in /usr/local/lib/python3.7/dist-packages (from voxel51-eta<0.7,>=0.6.3->fiftyone) (1.12)\n",
            "Requirement already satisfied: tzlocal in /usr/local/lib/python3.7/dist-packages (from voxel51-eta<0.7,>=0.6.3->fiftyone) (1.5.1)\n",
            "Requirement already satisfied: importlib-metadata in /usr/local/lib/python3.7/dist-packages (from voxel51-eta<0.7,>=0.6.3->fiftyone) (4.11.3)\n",
            "Requirement already satisfied: dill in /usr/local/lib/python3.7/dist-packages (from voxel51-eta<0.7,>=0.6.3->fiftyone) (0.3.4)\n",
            "Requirement already satisfied: urllib3 in /usr/local/lib/python3.7/dist-packages (from voxel51-eta<0.7,>=0.6.3->fiftyone) (1.25.11)\n",
            "Requirement already satisfied: zipp>=0.5 in /usr/local/lib/python3.7/dist-packages (from importlib-metadata->voxel51-eta<0.7,>=0.6.3->fiftyone) (3.8.0)\n",
            "Requirement already satisfied: s3transfer<0.6.0,>=0.5.0 in /usr/local/lib/python3.7/dist-packages (from boto3->fiftyone) (0.5.2)\n",
            "Requirement already satisfied: jmespath<2.0.0,>=0.7.1 in /usr/local/lib/python3.7/dist-packages (from boto3->fiftyone) (1.0.0)\n",
            "Requirement already satisfied: botocore<1.25.0,>=1.24.45 in /usr/local/lib/python3.7/dist-packages (from boto3->fiftyone) (1.24.45)\n",
            "Requirement already satisfied: wrapt<2,>=1.10 in /usr/local/lib/python3.7/dist-packages (from Deprecated->fiftyone) (1.14.0)\n",
            "Requirement already satisfied: greenlet>=0.3 in /usr/local/lib/python3.7/dist-packages (from eventlet->fiftyone) (1.1.2)\n",
            "Requirement already satisfied: dnspython>=1.15.0 in /usr/local/lib/python3.7/dist-packages (from eventlet->fiftyone) (2.2.1)\n",
            "Requirement already satisfied: pyparsing!=2.0.4,!=2.1.2,!=2.1.6,>=2.0.1 in /usr/local/lib/python3.7/dist-packages (from matplotlib->fiftyone) (3.0.8)\n",
            "Requirement already satisfied: cycler>=0.10 in /usr/local/lib/python3.7/dist-packages (from matplotlib->fiftyone) (0.11.0)\n",
            "Requirement already satisfied: kiwisolver>=1.0.1 in /usr/local/lib/python3.7/dist-packages (from matplotlib->fiftyone) (1.4.2)\n",
            "Requirement already satisfied: chardet<4,>=3.0.2 in /usr/local/lib/python3.7/dist-packages (from requests->voxel51-eta<0.7,>=0.6.3->fiftyone) (3.0.4)\n",
            "Requirement already satisfied: networkx>=2.0 in /usr/local/lib/python3.7/dist-packages (from scikit-image->fiftyone) (2.6.3)\n",
            "Requirement already satisfied: imageio>=2.3.0 in /usr/local/lib/python3.7/dist-packages (from scikit-image->fiftyone) (2.4.1)\n",
            "Requirement already satisfied: PyWavelets>=1.1.1 in /usr/local/lib/python3.7/dist-packages (from scikit-image->fiftyone) (1.3.0)\n",
            "Requirement already satisfied: tifffile>=2019.7.26 in /usr/local/lib/python3.7/dist-packages (from scikit-image->fiftyone) (2021.11.2)\n",
            "Requirement already satisfied: joblib>=0.11 in /usr/local/lib/python3.7/dist-packages (from scikit-learn->fiftyone) (1.1.0)\n",
            "Requirement already satisfied: threadpoolctl>=2.0.0 in /usr/local/lib/python3.7/dist-packages (from scikit-learn->fiftyone) (3.1.0)\n",
            "Requirement already satisfied: funcy in /usr/local/lib/python3.7/dist-packages (1.17)\n",
            "Collecting scikit-multilearn\n",
            "  Downloading scikit_multilearn-0.2.0-py3-none-any.whl (89 kB)\n",
            "\u001b[K     |████████████████████████████████| 89 kB 3.4 MB/s \n",
            "\u001b[?25hInstalling collected packages: scikit-multilearn\n",
            "Successfully installed scikit-multilearn-0.2.0\n"
          ]
        }
      ],
      "source": [
        "!pip install labelme\n",
        "!pip uninstall opencv-python-headless==4.5.5.62 \n",
        "!pip install opencv-python-headless==4.1.2.30\n",
        "!pip install fiftyone\n",
        "!pip install funcy\n",
        "!pip install scikit-multilearn"
      ]
    },
    {
      "cell_type": "code",
      "execution_count": 12,
      "metadata": {
        "id": "09RsDQquORLX"
      },
      "outputs": [],
      "source": [
        "import torch\n",
        "import os \n",
        "import torch.optim as optim\n",
        "import copy\n",
        "import numpy as np\n",
        "import json\n",
        "import glob\n",
        "import os.path as osp\n",
        "import sys\n",
        "\n",
        "from data import Read_data,detetction_class\n",
        "from visualize import visualize"
      ]
    },
    {
      "cell_type": "markdown",
      "metadata": {
        "id": "e6t7j0zyRJFG"
      },
      "source": [
        "**downloading data**\n",
        "--"
      ]
    },
    {
      "cell_type": "code",
      "execution_count": 3,
      "metadata": {
        "colab": {
          "base_uri": "https://localhost:8080/"
        },
        "id": "RgVP4OFUO1qX",
        "outputId": "8a6b2601-4791-45dd-b58f-9be2885d4733"
      },
      "outputs": [
        {
          "output_type": "stream",
          "name": "stdout",
          "text": [
            "Cloning into 'BSData'...\n",
            "remote: Enumerating objects: 1567, done.\u001b[K\n",
            "remote: Counting objects: 100% (47/47), done.\u001b[K\n",
            "remote: Compressing objects: 100% (45/45), done.\u001b[K\n",
            "remote: Total 1567 (delta 17), reused 16 (delta 1), pack-reused 1520\u001b[K\n",
            "Receiving objects: 100% (1567/1567), 233.91 MiB | 38.18 MiB/s, done.\n",
            "Resolving deltas: 100% (18/18), done.\n",
            "Checking out files: 100% (1510/1510), done.\n",
            "Cloning into 'cocosplit'...\n",
            "remote: Enumerating objects: 39, done.\u001b[K\n",
            "remote: Counting objects: 100% (28/28), done.\u001b[K\n",
            "remote: Compressing objects: 100% (23/23), done.\u001b[K\n",
            "remote: Total 39 (delta 9), reused 9 (delta 4), pack-reused 11\u001b[K\n",
            "Unpacking objects: 100% (39/39), done.\n"
          ]
        }
      ],
      "source": [
        "!git clone https://github.com/2Obe/BSData.git\n",
        "!git clone https://github.com/akarazniewicz/cocosplit.git"
      ]
    },
    {
      "cell_type": "markdown",
      "metadata": {
        "id": "ovJVR69GIXtU"
      },
      "source": [
        "**preparing and reading data**\n",
        "--"
      ]
    },
    {
      "cell_type": "code",
      "execution_count": 4,
      "metadata": {
        "id": "bh-UT7bOhrKq"
      },
      "outputs": [],
      "source": [
        "!mkdir coco_folder"
      ]
    },
    {
      "cell_type": "code",
      "execution_count": 5,
      "metadata": {
        "colab": {
          "base_uri": "https://localhost:8080/"
        },
        "id": "wRbiUkyp1c-S",
        "outputId": "d48b469c-c470-4f13-ebcc-9e67aa2765c8"
      },
      "outputs": [
        {
          "output_type": "stream",
          "name": "stdout",
          "text": [
            "/content/coco_folder\n",
            "/content\n"
          ]
        }
      ],
      "source": [
        "%cd coco_folder\n",
        "!mkdir data\n",
        "%cd .."
      ]
    },
    {
      "cell_type": "code",
      "execution_count": 6,
      "metadata": {
        "id": "PMCOSTuiCD_M"
      },
      "outputs": [],
      "source": [
        "data=Read_data('BSData/data','BSData/label')\n",
        "with open('coco_folder/data.json', 'w') as fp:\n",
        "    json.dump(data, fp,  indent=4)"
      ]
    },
    {
      "cell_type": "code",
      "execution_count": 7,
      "metadata": {
        "id": "BoMotUlu36cj"
      },
      "outputs": [],
      "source": [
        "import shutil\n",
        "files = glob.iglob(os.path.join(\"BSData/data\", \"*.jpg\"))\n",
        "for file in files:\n",
        "    if os.path.isfile(file):\n",
        "        shutil.copy2(file, os.path.join(\"coco_folder\", \"data\"))\n"
      ]
    },
    {
      "cell_type": "markdown",
      "metadata": {
        "id": "JXzguDaH7760"
      },
      "source": [
        "**splitting test and train data**\n",
        "---"
      ]
    },
    {
      "cell_type": "code",
      "execution_count": 14,
      "metadata": {
        "colab": {
          "base_uri": "https://localhost:8080/"
        },
        "id": "F2VJr5YH7PJ1",
        "outputId": "ee78fc9e-4898-4bc5-b467-ba9388bf4fce"
      },
      "outputs": [
        {
          "output_type": "stream",
          "name": "stdout",
          "text": [
            "Saved 391 entries in coco_folder/train.json and 94 in coco_folder/test.json\n",
            "length of train data=315\n",
            "length of test data=79\n"
          ]
        }
      ],
      "source": [
        "!python cocosplit/cocosplit.py --having-annotations -s 0.8 coco_folder/data.json coco_folder/train.json coco_folder/test.json\n",
        "print(f\"length of train data={len(json.load(open('coco_folder/train.json'))['images'])}\")\n",
        "print(f\"length of test data={len(json.load(open('coco_folder/test.json'))['images'])}\")"
      ]
    },
    {
      "cell_type": "markdown",
      "metadata": {
        "id": "Gwmjb5EoMp8u"
      },
      "source": [
        "**primary model**\n",
        "--"
      ]
    },
    {
      "cell_type": "code",
      "execution_count": 15,
      "metadata": {
        "id": "O4r4K1JX8-uD"
      },
      "outputs": [],
      "source": [
        "from model import get_model\n",
        "model=get_model(2)\n"
      ]
    },
    {
      "cell_type": "markdown",
      "metadata": {
        "id": "CdJtGkbsMwZu"
      },
      "source": [
        "**data class**\n",
        "--"
      ]
    },
    {
      "cell_type": "code",
      "execution_count": 16,
      "metadata": {
        "colab": {
          "base_uri": "https://localhost:8080/"
        },
        "id": "btu2VEqUNB0g",
        "outputId": "1c82f254-3184-4feb-f94b-176db795c4eb"
      },
      "outputs": [
        {
          "output_type": "stream",
          "name": "stdout",
          "text": [
            "loading annotations into memory...\n",
            "Done (t=0.02s)\n",
            "creating index...\n",
            "index created!\n",
            "loading annotations into memory...\n",
            "Done (t=0.01s)\n",
            "creating index...\n",
            "index created!\n"
          ]
        }
      ],
      "source": [
        "train_dataset=detetction_class('/content/coco_folder/train.json','/content/coco_folder/data')\n",
        "test_dataset=detetction_class('/content/coco_folder/test.json','/content/coco_folder/data')"
      ]
    },
    {
      "cell_type": "markdown",
      "metadata": {
        "id": "OAH2pnSH3BmZ"
      },
      "source": [
        "**trainin**\n",
        "--"
      ]
    },
    {
      "cell_type": "code",
      "execution_count": 17,
      "metadata": {
        "id": "JR7pWohlNdrB"
      },
      "outputs": [],
      "source": [
        "lr=0.001#0.0001 \n",
        "weight_decay=1e-5\n",
        "optimizer=optim.SGD(model.parameters(),lr=lr,weight_decay=weight_decay,momentum=0.9)\n",
        "optim_scheduler = optim.lr_scheduler.StepLR(optimizer, step_size=3, gamma=0.1)\n",
        "train_sample=[i[0] for i in train_dataset]\n",
        "train_label=[i[1] for i in train_dataset]"
      ]
    },
    {
      "cell_type": "code",
      "execution_count": null,
      "metadata": {
        "id": "0Bo5SCjs3U88"
      },
      "outputs": [],
      "source": [
        "torch.save(model.state_dict(),'pretrained_rcnn')"
      ]
    },
    {
      "cell_type": "code",
      "execution_count": null,
      "metadata": {
        "colab": {
          "base_uri": "https://localhost:8080/"
        },
        "id": "ScgSu6Ct3V8Z",
        "outputId": "64bf1a4f-c701-4917-c227-e485084ce91b"
      },
      "outputs": [
        {
          "output_type": "execute_result",
          "data": {
            "text/plain": [
              "<All keys matched successfully>"
            ]
          },
          "metadata": {},
          "execution_count": 14
        }
      ],
      "source": [
        "model.load_state_dict(torch.load('pretrained_rcnn'))"
      ]
    },
    {
      "cell_type": "code",
      "execution_count": null,
      "metadata": {
        "id": "WzqylFjhN2-h",
        "colab": {
          "base_uri": "https://localhost:8080/"
        },
        "outputId": "1f9f2607-b496-4ac5-a31c-311279595ad8"
      },
      "outputs": [
        {
          "output_type": "stream",
          "name": "stdout",
          "text": [
            "epoch 0 of 1\n",
            "{'loss_classifier': tensor(0.0456, device='cuda:0', grad_fn=<NllLossBackward0>), 'loss_box_reg': tensor(0.0511, device='cuda:0', grad_fn=<DivBackward0>), 'loss_mask': tensor(0.3266, device='cuda:0',\n",
            "       grad_fn=<BinaryCrossEntropyWithLogitsBackward0>), 'loss_objectness': tensor(0.0082, device='cuda:0',\n",
            "       grad_fn=<BinaryCrossEntropyWithLogitsBackward0>), 'loss_rpn_box_reg': tensor(0.0043, device='cuda:0', grad_fn=<DivBackward0>)}\n",
            "0.27260541915893555\n",
            "{'loss_classifier': tensor(0.0196, device='cuda:0', grad_fn=<NllLossBackward0>), 'loss_box_reg': tensor(0.0263, device='cuda:0', grad_fn=<DivBackward0>), 'loss_mask': tensor(0.4277, device='cuda:0',\n",
            "       grad_fn=<BinaryCrossEntropyWithLogitsBackward0>), 'loss_objectness': tensor(0.0052, device='cuda:0',\n",
            "       grad_fn=<BinaryCrossEntropyWithLogitsBackward0>), 'loss_rpn_box_reg': tensor(0.0028, device='cuda:0', grad_fn=<DivBackward0>)}\n",
            "0.26769182085990906\n",
            "{'loss_classifier': tensor(0.0253, device='cuda:0', grad_fn=<NllLossBackward0>), 'loss_box_reg': tensor(0.0326, device='cuda:0', grad_fn=<DivBackward0>), 'loss_mask': tensor(0.3789, device='cuda:0',\n",
            "       grad_fn=<BinaryCrossEntropyWithLogitsBackward0>), 'loss_objectness': tensor(0.0075, device='cuda:0',\n",
            "       grad_fn=<BinaryCrossEntropyWithLogitsBackward0>), 'loss_rpn_box_reg': tensor(0.0019, device='cuda:0', grad_fn=<DivBackward0>)}\n",
            "0.25673016905784607\n",
            "{'loss_classifier': tensor(0.0108, device='cuda:0', grad_fn=<NllLossBackward0>), 'loss_box_reg': tensor(0.0106, device='cuda:0', grad_fn=<DivBackward0>), 'loss_mask': tensor(0.4854, device='cuda:0',\n",
            "       grad_fn=<BinaryCrossEntropyWithLogitsBackward0>), 'loss_objectness': tensor(0.0119, device='cuda:0',\n",
            "       grad_fn=<BinaryCrossEntropyWithLogitsBackward0>), 'loss_rpn_box_reg': tensor(0.0093, device='cuda:0', grad_fn=<DivBackward0>)}\n",
            "0.28521835803985596\n",
            "{'loss_classifier': tensor(0.0135, device='cuda:0', grad_fn=<NllLossBackward0>), 'loss_box_reg': tensor(0.0408, device='cuda:0', grad_fn=<DivBackward0>), 'loss_mask': tensor(0.2983, device='cuda:0',\n",
            "       grad_fn=<BinaryCrossEntropyWithLogitsBackward0>), 'loss_objectness': tensor(0.0052, device='cuda:0',\n",
            "       grad_fn=<BinaryCrossEntropyWithLogitsBackward0>), 'loss_rpn_box_reg': tensor(0.0017, device='cuda:0', grad_fn=<DivBackward0>)}\n",
            "0.21043162047863007\n",
            "{'loss_classifier': tensor(0.0079, device='cuda:0', grad_fn=<NllLossBackward0>), 'loss_box_reg': tensor(0.0044, device='cuda:0', grad_fn=<DivBackward0>), 'loss_mask': tensor(0.3608, device='cuda:0',\n",
            "       grad_fn=<BinaryCrossEntropyWithLogitsBackward0>), 'loss_objectness': tensor(0.0098, device='cuda:0',\n",
            "       grad_fn=<BinaryCrossEntropyWithLogitsBackward0>), 'loss_rpn_box_reg': tensor(0.0013, device='cuda:0', grad_fn=<DivBackward0>)}\n",
            "0.20379985868930817\n",
            "{'loss_classifier': tensor(0.0108, device='cuda:0', grad_fn=<NllLossBackward0>), 'loss_box_reg': tensor(0.0178, device='cuda:0', grad_fn=<DivBackward0>), 'loss_mask': tensor(0.4488, device='cuda:0',\n",
            "       grad_fn=<BinaryCrossEntropyWithLogitsBackward0>), 'loss_objectness': tensor(0.0048, device='cuda:0',\n",
            "       grad_fn=<BinaryCrossEntropyWithLogitsBackward0>), 'loss_rpn_box_reg': tensor(0.0011, device='cuda:0', grad_fn=<DivBackward0>)}\n",
            "0.2588222026824951\n",
            "{'loss_classifier': tensor(0.0084, device='cuda:0', grad_fn=<NllLossBackward0>), 'loss_box_reg': tensor(0.0254, device='cuda:0', grad_fn=<DivBackward0>), 'loss_mask': tensor(0.3838, device='cuda:0',\n",
            "       grad_fn=<BinaryCrossEntropyWithLogitsBackward0>), 'loss_objectness': tensor(0.0027, device='cuda:0',\n",
            "       grad_fn=<BinaryCrossEntropyWithLogitsBackward0>), 'loss_rpn_box_reg': tensor(0.0021, device='cuda:0', grad_fn=<DivBackward0>)}\n",
            "0.23065319657325745\n"
          ]
        }
      ],
      "source": [
        "Device='cuda'\n",
        "epochs=1\n",
        "batch_size=2\n",
        "model.to(Device)\n",
        "model.train(True)\n",
        "parameter=np.array([1,1,1,1,0.5])#np.array([6,6,10,10,0.005]) #both initial wait are used one for fine tuning and the other is for training\n",
        "for i in range(epochs):\n",
        "  if i<8:\n",
        "    parameter*[0.9,0.9,0.8,0.8,2]#[0.8,0.8,0.8,0.8,1.5]   #both list are used one for fine tuning and the other is for training\n",
        "  print(f'epoch {i} of {epochs}')\n",
        "  for i in range(int(len(train_sample)/batch_size)+1):\n",
        "    optimizer.zero_grad()\n",
        "    j=(i+1)*batch_size if i<int(len(train_sample)/batch_size) else None\n",
        "\n",
        "    k=[x.to(Device) for x in train_sample[(i*batch_size):j]]\n",
        "    l=[{'labels':x['labels'].to(Device),'boxes':x['boxes'].to(Device),'masks':x['masks'].to(Device)\n",
        "        } for x in train_label[(i*batch_size):j]]\n",
        "        \n",
        "    loss=model(k,l)\n",
        "\n",
        "    del k\n",
        "    del l\n",
        "    torch.cuda.empty_cache()\n",
        "    \n",
        "    loss1=loss['loss_classifier']\n",
        "    loss2=loss['loss_box_reg']\n",
        "    loss3=loss['loss_mask']\n",
        "    loss4=loss['loss_objectness']\n",
        "    loss5=loss['loss_rpn_box_reg']\n",
        "\n",
        "    total_loss=parameter[0]*loss2+parameter[1]*loss1+parameter[2]*loss4+parameter[3]*loss5+parameter[4]*loss3\n",
        "    total_loss.backward()\n",
        "    if(i%20==0):\n",
        "      print(loss)\n",
        "      print(total_loss.item())\n",
        "\n",
        "    optimizer.step()\n",
        "  optim_scheduler.step()\n",
        "  "
      ]
    },
    {
      "cell_type": "markdown",
      "metadata": {
        "id": "Wzd9Bki5g61D"
      },
      "source": [
        "**visualize results**\n",
        "---"
      ]
    },
    {
      "cell_type": "code",
      "execution_count": null,
      "metadata": {
        "id": "-LhqeSiEFElO"
      },
      "outputs": [],
      "source": [
        "k=test_dataset[8]\n",
        "\n",
        "visualize(k[0],k[1],1)"
      ]
    },
    {
      "cell_type": "code",
      "execution_count": null,
      "metadata": {
        "id": "6F8ZrxU4MDxt"
      },
      "outputs": [],
      "source": [
        "model.train(False)\n",
        "Device='cuda'\n",
        "model.to(Device)\n",
        "z=[k[0].to(Device)]\n",
        "f=model(z)\n",
        "del z\n",
        "torch.cuda.empty_cache()"
      ]
    },
    {
      "cell_type": "code",
      "execution_count": null,
      "metadata": {
        "id": "DtgYSrT3MWcd"
      },
      "outputs": [],
      "source": [
        "visualize(k[0],f[0],1)"
      ]
    }
  ],
  "metadata": {
    "accelerator": "GPU",
    "colab": {
      "collapsed_sections": [
        "e6t7j0zyRJFG",
        "ovJVR69GIXtU"
      ],
      "name": "scew_lab.ipynb",
      "provenance": []
    },
    "kernelspec": {
      "display_name": "Python 3",
      "name": "python3"
    },
    "language_info": {
      "name": "python"
    }
  },
  "nbformat": 4,
  "nbformat_minor": 0
}