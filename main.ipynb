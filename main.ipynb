{
  "cells": [
    {
      "cell_type": "markdown",
      "metadata": {
        "id": "FD4mDBomQrqE"
      },
      "source": [
        "\n",
        "**importing modules**\n",
        "--"
      ]
    },
    {
      "cell_type": "code",
      "execution_count": null,
      "metadata": {
        "id": "93UxXCPP7oPm"
      },
      "outputs": [],
      "source": [
        "!pip install labelme\n",
        "!pip uninstall opencv-python-headless==4.5.5.62 \n",
        "!pip install opencv-python-headless==4.1.2.30\n",
        "!pip install fiftyone\n",
        "!pip install torchmetrics\n",
        "!pip install funcy\n",
        "!pip install scikit-multilearn"
      ]
    },
    {
      "cell_type": "code",
      "execution_count": 1,
      "metadata": {
        "id": "09RsDQquORLX"
      },
      "outputs": [],
      "source": [
        "import torch\n",
        "import os \n",
        "import torch.optim as optim\n",
        "import copy\n",
        "import numpy as np\n",
        "import json\n",
        "import glob\n",
        "import os.path as osp\n",
        "import sys\n",
        "import gc\n",
        "from torchmetrics.detection.mean_ap import MeanAveragePrecision as MAP\n",
        "from data import Read_data,detetction_class\n",
        "from visualize import visualize,post_process"
      ]
    },
    {
      "cell_type": "markdown",
      "metadata": {
        "id": "e6t7j0zyRJFG"
      },
      "source": [
        "**downloading data**\n",
        "--"
      ]
    },
    {
      "cell_type": "code",
      "execution_count": null,
      "metadata": {
        "id": "RgVP4OFUO1qX"
      },
      "outputs": [],
      "source": [
        "!git clone https://github.com/2Obe/BSData.git\n",
        "!git clone https://github.com/akarazniewicz/cocosplit.git"
      ]
    },
    {
      "cell_type": "markdown",
      "metadata": {
        "id": "ovJVR69GIXtU"
      },
      "source": [
        "**preparing and reading data**\n",
        "--"
      ]
    },
    {
      "cell_type": "code",
      "execution_count": 4,
      "metadata": {
        "id": "bh-UT7bOhrKq"
      },
      "outputs": [],
      "source": [
        "!mkdir coco_folder"
      ]
    },
    {
      "cell_type": "code",
      "execution_count": null,
      "metadata": {
        "id": "wRbiUkyp1c-S"
      },
      "outputs": [],
      "source": [
        "%cd coco_folder\n",
        "!mkdir data\n",
        "%cd .."
      ]
    },
    {
      "cell_type": "code",
      "execution_count": 6,
      "metadata": {
        "id": "PMCOSTuiCD_M"
      },
      "outputs": [],
      "source": [
        "data=Read_data('BSData/data','BSData/label')\n",
        "with open('coco_folder/data.json', 'w') as fp:\n",
        "    json.dump(data, fp,  indent=4)"
      ]
    },
    {
      "cell_type": "code",
      "execution_count": 7,
      "metadata": {
        "id": "BoMotUlu36cj"
      },
      "outputs": [],
      "source": [
        "import shutil\n",
        "files = glob.iglob(os.path.join(\"BSData/data\", \"*.jpg\"))\n",
        "for file in files:\n",
        "    if os.path.isfile(file):\n",
        "        shutil.copy2(file, os.path.join(\"coco_folder\", \"data\"))\n"
      ]
    },
    {
      "cell_type": "markdown",
      "metadata": {
        "id": "JXzguDaH7760"
      },
      "source": [
        "**splitting test and train data**\n",
        "---"
      ]
    },
    {
      "cell_type": "code",
      "execution_count": null,
      "metadata": {
        "id": "F2VJr5YH7PJ1"
      },
      "outputs": [],
      "source": [
        "!python cocosplit/cocosplit.py --having-annotations -s 0.8 coco_folder/data.json coco_folder/train.json coco_folder/test.json\n",
        "print(f\"length of train data={len(json.load(open('coco_folder/train.json'))['images'])}\")\n",
        "print(f\"length of test data={len(json.load(open('coco_folder/test.json'))['images'])}\")"
      ]
    },
    {
      "cell_type": "markdown",
      "metadata": {
        "id": "Gwmjb5EoMp8u"
      },
      "source": [
        "**primary model**\n",
        "--"
      ]
    },
    {
      "cell_type": "code",
      "execution_count": 2,
      "metadata": {
        "id": "O4r4K1JX8-uD"
      },
      "outputs": [],
      "source": [
        "from model import get_model\n",
        "model=get_model(2,'resnset101')\n"
      ]
    },
    {
      "cell_type": "markdown",
      "metadata": {
        "id": "CdJtGkbsMwZu"
      },
      "source": [
        "**data class**\n",
        "--"
      ]
    },
    {
      "cell_type": "code",
      "execution_count": null,
      "metadata": {
        "id": "btu2VEqUNB0g"
      },
      "outputs": [],
      "source": [
        "train_dataset=detetction_class('/content/coco_folder/train.json','/content/coco_folder/data')\n",
        "test_dataset=detetction_class('/content/coco_folder/test.json','/content/coco_folder/data')"
      ]
    },
    {
      "cell_type": "markdown",
      "metadata": {
        "id": "OAH2pnSH3BmZ"
      },
      "source": [
        "**training**\n",
        "--"
      ]
    },
    {
      "cell_type": "code",
      "execution_count": 18,
      "metadata": {
        "id": "JR7pWohlNdrB"
      },
      "outputs": [],
      "source": [
        "lr=0.0001#0.0001 \n",
        "weight_decay=1e-5\n",
        "for parameter in model.parameters():\n",
        "  parameter.require_grad=True\n",
        "for parameter in model.backbone:\n",
        "  parameter.require_grad= True\n",
        "optimizer=optim.SGD(model.parameters(),lr=lr,weight_decay=weight_decay,momentum=0.9)\n",
        "optim_scheduler = optim.lr_scheduler.StepLR(optimizer, step_size=3, gamma=0.1)\n",
        "#train_sample=[i[0] for i in train_dataset]\n",
        "#train_label=[i[1] for i in train_dataset]"
      ]
    },
    {
      "cell_type": "code",
      "execution_count": 40,
      "metadata": {
        "id": "0Bo5SCjs3U88"
      },
      "outputs": [],
      "source": [
        "torch.save(model.state_dict(),'pretrained_rcnn')"
      ]
    },
    {
      "cell_type": "code",
      "execution_count": 4,
      "metadata": {
        "colab": {
          "base_uri": "https://localhost:8080/"
        },
        "id": "ScgSu6Ct3V8Z",
        "outputId": "d9032b8d-6c27-4bd1-edf7-51da6416f73a"
      },
      "outputs": [
        {
          "output_type": "execute_result",
          "data": {
            "text/plain": [
              "<All keys matched successfully>"
            ]
          },
          "metadata": {},
          "execution_count": 4
        }
      ],
      "source": [
        "\n",
        "model.load_state_dict(torch.load('pretrained_rcnn'))#,map_location='cpu'))"
      ]
    },
    {
      "cell_type": "code",
      "execution_count": null,
      "metadata": {
        "id": "WzqylFjhN2-h"
      },
      "outputs": [],
      "source": [
        "Device='cuda'\n",
        "epochs=8\n",
        "batch_size=2\n",
        "model.to(Device)\n",
        "model.train(True)\n",
        "parameter=np.array([6,6,10,10,0.0])#np.array([1,1,1,1,0.5])# #both initial wait are used one for fine tuning and the other is for training\n",
        "for i in range(epochs):\n",
        "  if i<8:\n",
        "    parameter*[0.9,0.9,0.8,0.8,2]#[0.8,0.8,0.8,0.8,1.5]   #both list are used one for fine tuning and the other is for training\n",
        "  print(f'epoch {i} of {epochs}')\n",
        "  for i in range(int(len(train_sample)/batch_size)+1):\n",
        "    optimizer.zero_grad()\n",
        "    j=(i+1)*batch_size if i<int(len(train_sample)/batch_size) else None\n",
        "\n",
        "    k=[x.to(Device) for x in train_sample[(i*batch_size):j]]\n",
        "    l=[{'labels':x['labels'].to(Device),'boxes':x['boxes'].to(Device),'masks':x['masks'].to(Device)\n",
        "        } for x in train_label[(i*batch_size):j]]\n",
        "        \n",
        "    loss=model(k,l)\n",
        "\n",
        "    del (k)\n",
        "    del (l)\n",
        "    torch.cuda.empty_cache()\n",
        "    \n",
        "    loss1=loss['loss_classifier']\n",
        "    loss2=loss['loss_box_reg']\n",
        "    loss3=loss['loss_mask']\n",
        "    loss4=loss['loss_objectness']\n",
        "    loss5=loss['loss_rpn_box_reg']\n",
        "\n",
        "    total_loss=parameter[0]*loss2+parameter[1]*loss1+parameter[2]*loss4+parameter[3]*loss5+parameter[4]*loss3\n",
        "    total_loss.backward()\n",
        "    if(i%20==0):\n",
        "      print(loss)\n",
        "      print(total_loss.item())\n",
        "\n",
        "    optimizer.step()\n",
        "  optim_scheduler.step()\n",
        "  "
      ]
    },
    {
      "cell_type": "markdown",
      "metadata": {
        "id": "Wzd9Bki5g61D"
      },
      "source": [
        "**visualize results**\n",
        "---"
      ]
    },
    {
      "cell_type": "code",
      "execution_count": null,
      "metadata": {
        "id": "-LhqeSiEFElO"
      },
      "outputs": [],
      "source": [
        "k=test_dataset[3]\n",
        "\n",
        "visualize(k[0],k[1],1)"
      ]
    },
    {
      "cell_type": "code",
      "execution_count": null,
      "metadata": {
        "id": "6F8ZrxU4MDxt"
      },
      "outputs": [],
      "source": [
        "model.train(False)\n",
        "Device='cpu'\n",
        "model.to(Device)\n",
        "z=[k[0].to(Device)]\n",
        "f=model(z)\n",
        "del z\n",
        "torch.cuda.empty_cache()"
      ]
    },
    {
      "cell_type": "code",
      "execution_count": null,
      "metadata": {
        "id": "DtgYSrT3MWcd"
      },
      "outputs": [],
      "source": [
        "visualize(k[0],f[0],1,0.1)"
      ]
    },
    {
      "cell_type": "markdown",
      "metadata": {
        "id": "OrE_qJCJaHGD"
      },
      "source": [
        "**testing**\n",
        "---"
      ]
    },
    {
      "cell_type": "code",
      "execution_count": 11,
      "metadata": {
        "id": "fKgsAQ9h0ZfZ"
      },
      "outputs": [],
      "source": [
        "def get_target_prediction(model,sample,Device):\n",
        "  z=[sample[0].to(Device)]\n",
        "  f=model(z)\n",
        "  f=post_process(f[0],0.5,0.1)\n",
        "  k={\"boxes\":f[\"boxes\"].to(\"cpu\"),\"labels\":f[\"labels\"].to(\"cpu\"),\"scores\":f[\"scores\"].to(\"cpu\")}\n",
        "  del (f)\n",
        "  del (z)\n",
        "  gc.collect()\n",
        "  return  k"
      ]
    },
    {
      "cell_type": "code",
      "execution_count": null,
      "metadata": {
        "id": "Ju3qMCW5aMs-"
      },
      "outputs": [],
      "source": [
        "model.train(False)\n",
        "Device='cuda'\n",
        "model.to(Device)\n",
        "j=0\n",
        "x,y=[],[]\n",
        "map=MAP()\n",
        "for i in test_dataset:\n",
        "  with torch.no_grad():\n",
        "    x.append(get_target_prediction(model,i,Device))\n",
        "    y.append({\"boxes\":i[1][\"boxes\"].to('cpu'),\"labels\":i[1][\"labels\"].to('cpu')})\n",
        "\n",
        "  print(f\"step {j} from {len(test_dataset)}\")\n",
        "  j+=1"
      ]
    },
    {
      "cell_type": "code",
      "execution_count": 13,
      "metadata": {
        "colab": {
          "base_uri": "https://localhost:8080/"
        },
        "id": "WS9dukmEDzrC",
        "outputId": "0dbfe694-0281-4437-be57-b182e127916c"
      },
      "outputs": [
        {
          "output_type": "execute_result",
          "data": {
            "text/plain": [
              "{'map': tensor(0.4356),\n",
              " 'map_50': tensor(0.7035),\n",
              " 'map_75': tensor(0.5144),\n",
              " 'map_large': tensor(0.6143),\n",
              " 'map_medium': tensor(0.5010),\n",
              " 'map_per_class': tensor(-1.),\n",
              " 'map_small': tensor(0.0065),\n",
              " 'mar_1': tensor(0.4304),\n",
              " 'mar_10': tensor(0.4707),\n",
              " 'mar_100': tensor(0.4707),\n",
              " 'mar_100_per_class': tensor(-1.),\n",
              " 'mar_large': tensor(0.7000),\n",
              " 'mar_medium': tensor(0.5439),\n",
              " 'mar_small': tensor(0.0222)}"
            ]
          },
          "metadata": {},
          "execution_count": 13
        }
      ],
      "source": [
        "map.update(x,y)\n",
        "map.compute()"
      ]
    }
  ],
  "metadata": {
    "accelerator": "GPU",
    "colab": {
      "collapsed_sections": [],
      "name": "scew_lab.ipynb",
      "provenance": []
    },
    "kernelspec": {
      "display_name": "Python 3",
      "name": "python3"
    },
    "language_info": {
      "name": "python"
    }
  },
  "nbformat": 4,
  "nbformat_minor": 0
}